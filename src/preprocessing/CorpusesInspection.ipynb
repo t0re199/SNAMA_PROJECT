{
  "nbformat": 4,
  "nbformat_minor": 0,
  "metadata": {
    "colab": {
      "name": "CorpusesInspection.ipynb",
      "provenance": [],
      "collapsed_sections": []
    },
    "kernelspec": {
      "name": "python3",
      "display_name": "Python 3"
    },
    "language_info": {
      "name": "python"
    }
  },
  "cells": [
    {
      "cell_type": "markdown",
      "source": [
        "### MOUNTING DRIVE"
      ],
      "metadata": {
        "id": "OboadTWT41Jt"
      }
    },
    {
      "cell_type": "code",
      "source": [
        "from google.colab import drive\n",
        "drive.mount('/content/drive')"
      ],
      "metadata": {
        "id": "4EQMeNI940jB",
        "colab": {
          "base_uri": "https://localhost:8080/"
        },
        "outputId": "cd2e3ee7-116f-4f12-996e-abd738370532"
      },
      "execution_count": null,
      "outputs": [
        {
          "output_type": "stream",
          "name": "stdout",
          "text": [
            "Drive already mounted at /content/drive; to attempt to forcibly remount, call drive.mount(\"/content/drive\", force_remount=True).\n"
          ]
        }
      ]
    },
    {
      "cell_type": "markdown",
      "source": [
        "### IMPORT"
      ],
      "metadata": {
        "id": "xD-gpVjcyd5r"
      }
    },
    {
      "cell_type": "code",
      "source": [
        "import os\n",
        "import re\n",
        "import pickle\n",
        "import numpy as np\n",
        "import pandas as pd\n",
        "import matplotlib.pyplot as plt\n",
        "from concurrent.futures import ThreadPoolExecutor"
      ],
      "metadata": {
        "id": "XNFs5qxtw8gM"
      },
      "execution_count": null,
      "outputs": []
    },
    {
      "cell_type": "code",
      "source": [
        "import nltk\n",
        "nltk.download('punkt', quiet=True)\n",
        "nltk.download('averaged_perceptron_tagger', quiet=True)\n",
        "nltk.download('stopwords', quiet=True)\n",
        "nltk.download('wordnet', quiet=True)\n",
        "pass"
      ],
      "metadata": {
        "id": "11g0xLRex6aH"
      },
      "execution_count": null,
      "outputs": []
    },
    {
      "cell_type": "code",
      "source": [
        "from nltk import pos_tag\n",
        "from nltk.corpus import wordnet\n",
        "from nltk.corpus import stopwords\n",
        "from nltk.stem import WordNetLemmatizer"
      ],
      "metadata": {
        "id": "xYGCvXDvx-Ul"
      },
      "execution_count": null,
      "outputs": []
    },
    {
      "cell_type": "code",
      "source": [
        "import matplotlib.pyplot as plt"
      ],
      "metadata": {
        "id": "WQGxE9kUQSks"
      },
      "execution_count": null,
      "outputs": []
    },
    {
      "cell_type": "markdown",
      "source": [
        "### CONSTANTS"
      ],
      "metadata": {
        "id": "bVG3mKBdzELY"
      }
    },
    {
      "cell_type": "code",
      "execution_count": null,
      "metadata": {
        "id": "sZ8z-p8ewyWi"
      },
      "outputs": [],
      "source": [
        "PROJECT_DIR = \"/content/drive/MyDrive/SNAMA\"\n",
        "\n",
        "DATA_PATH = os.path.join(PROJECT_DIR, \"data\")\n",
        "CHECKPOINTS_PATH = os.path.join(PROJECT_DIR, \"checkpoints\")\n",
        "MODELS_PATH = os.path.join(PROJECT_DIR, \"models\")\n",
        "\n",
        "DATASET_NAME = \"amazon_reviews.csv\"\n",
        "DATASET_PATH = os.path.join(DATA_PATH, DATASET_NAME)\n",
        "\n",
        "PREPROCESSED_DATASET_NAME = \"amazon_reviews_preprocessed.pckl\"\n",
        "PREPROCESSED_LABELS_NAME = \"amazon_reviews_preprocessed_labels.pckl\""
      ]
    },
    {
      "cell_type": "code",
      "source": [
        "__LOGICAL_CORES__ = 0x4"
      ],
      "metadata": {
        "id": "rNF9qXcT76rw"
      },
      "execution_count": null,
      "outputs": []
    },
    {
      "cell_type": "markdown",
      "source": [
        "### IO"
      ],
      "metadata": {
        "id": "VmoUx3TzyXJn"
      }
    },
    {
      "cell_type": "code",
      "source": [
        "def dump_object(data, file, directory):\n",
        "    with open(os.path.join(directory, file), 'wb') as file:\n",
        "        pickle.dump(data, file)\n",
        "\n",
        "\n",
        "def load_object(file, directory):\n",
        "    with open(os.path.join(directory, file), 'rb') as file:\n",
        "        data = pickle.load(file)\n",
        "        return data\n",
        "\n",
        "\n",
        "def exists_object(file, directory):\n",
        "    return os.path.isfile(os.path.join(directory, file))\n",
        "\n",
        "\n",
        "def dump_model(data, file, directory=MODELS_PATH):\n",
        "    dump_object(data, file, directory)\n",
        "\n",
        "\n",
        "def load_model(file, directory=MODELS_PATH):\n",
        "    return load_object(file, directory)\n",
        "\n",
        "\n",
        "def exists_model(file, directory=MODELS_PATH):\n",
        "    return exists_object(file, directory)\n",
        "\n",
        "\n",
        "def dump_checkpoint(data, file, directory=CHECKPOINTS_PATH):\n",
        "    dump_object(data, file, directory)\n",
        "\n",
        "\n",
        "def load_checkpoint(file, directory=CHECKPOINTS_PATH):\n",
        "    return load_object(file, directory)\n",
        "\n",
        "\n",
        "def exists_checkpoint(file, directory=CHECKPOINTS_PATH):\n",
        "    return exists_object(file, directory)\n",
        "\n",
        "\n",
        "def load_dataset_from_csv(file, directory=DATA_PATH):\n",
        "    dataframe_ = pd.read_csv(os.path.join(directory, file))\n",
        "    return dataframe_.Text.values, dataframe_.Score.values\n",
        "\n",
        "\n",
        "def dump_dataset(data, file, directory=DATA_PATH):\n",
        "    dump_object(data, file, directory)\n",
        "\n",
        "\n",
        "def load_dataset(file, directory=DATA_PATH):\n",
        "    return load_object(file, directory)\n",
        "\n",
        "\n",
        "def exists_checkpoint(file, directory=DATA_PATH):\n",
        "    return exists_object(file, directory)"
      ],
      "metadata": {
        "id": "He0czhHiyV05"
      },
      "execution_count": null,
      "outputs": []
    },
    {
      "cell_type": "markdown",
      "source": [
        "### PREPROCESSING FUNCTIONS"
      ],
      "metadata": {
        "id": "QzostJQp0S13"
      }
    },
    {
      "cell_type": "code",
      "source": [
        "def get_wordnet_pos(tag):\n",
        "    tag_dict = {\"J\": wordnet.ADJ,\n",
        "                \"N\": wordnet.NOUN,\n",
        "                \"V\": wordnet.VERB,\n",
        "                \"R\": wordnet.ADV}\n",
        "\n",
        "    return tag_dict.get(tag[0x0], wordnet.NOUN)"
      ],
      "metadata": {
        "id": "qWf97ZCZ2eyM"
      },
      "execution_count": null,
      "outputs": []
    },
    {
      "cell_type": "code",
      "source": [
        "def get_corpus(dataset):\n",
        "    corpus = set()\n",
        "\n",
        "    for text in dataset:\n",
        "        tokens = nltk.word_tokenize(text)\n",
        "        corpus = corpus.union(tokens)\n",
        "\n",
        "    return corpus"
      ],
      "metadata": {
        "id": "9-ks2YOj0VF0"
      },
      "execution_count": null,
      "outputs": []
    },
    {
      "cell_type": "code",
      "source": [
        "def preprocess_dataset(dataset):\n",
        "    word_net_lemmatizer = WordNetLemmatizer()\n",
        "\n",
        "    en_stopwords = set(stopwords.words(\"english\"))\n",
        "\n",
        "    for i in range(dataset.shape[0x0]):\n",
        "        dataset[i] = re.sub(r'\\W+', \" \", re.sub(r\"<.*?>\", \" \", dataset[i]))\\\n",
        "                        .strip()\\\n",
        "                        .lower()\n",
        "\n",
        "        tagged_words = pos_tag(nltk.word_tokenize(dataset[i]))\n",
        "\n",
        "        processed_words = []\n",
        "\n",
        "        for j, (word, tag) in enumerate(tagged_words):\n",
        "\n",
        "            if len(word) > 0x1 and word not in en_stopwords and word.isalpha():\n",
        "                processed_words.append(word_net_lemmatizer.lemmatize(word, get_wordnet_pos(tag)))\n",
        "\n",
        "        dataset[i] = \" \".join(processed_words)"
      ],
      "metadata": {
        "id": "E1Cutixq0pCf"
      },
      "execution_count": null,
      "outputs": []
    },
    {
      "cell_type": "markdown",
      "source": [
        "### CORPUSES INSPECTION"
      ],
      "metadata": {
        "id": "FQuXgYzwNdJl"
      }
    },
    {
      "cell_type": "code",
      "source": [
        "dataset = load_dataset(PREPROCESSED_DATASET_NAME)\n",
        "labels = load_dataset(PREPROCESSED_LABELS_NAME)"
      ],
      "metadata": {
        "id": "OhBwsuKxNDwf"
      },
      "execution_count": null,
      "outputs": []
    },
    {
      "cell_type": "code",
      "source": [
        "corpuses = []\n",
        "for label in range(0x3):\n",
        "    ds = dataset[np.argwhere(labels == label)]\n",
        "    ds = ds.reshape(-0x1)\n",
        "    corpus = get_corpus(ds)\n",
        "    corpuses.append(corpus)"
      ],
      "metadata": {
        "id": "0e1o3iNkNXIz"
      },
      "execution_count": null,
      "outputs": []
    },
    {
      "cell_type": "code",
      "source": [
        "int_0_1 = corpuses[0].intersection(corpuses[1])\n",
        "int_1_2 = corpuses[1].intersection(corpuses[2])"
      ],
      "metadata": {
        "id": "FMqnuuG3NsmH"
      },
      "execution_count": null,
      "outputs": []
    },
    {
      "cell_type": "code",
      "source": [
        "print(f\"Intersection classes 0 /\\ 1 = {len(int_0_1)}\")\n",
        "print(f\"Intersection classes 1 /\\ 2 = {len(int_1_2)}\")"
      ],
      "metadata": {
        "colab": {
          "base_uri": "https://localhost:8080/"
        },
        "id": "En9lJQPFNzh_",
        "outputId": "dd0c93c1-9692-4fdb-f79e-79a53781cb33"
      },
      "execution_count": null,
      "outputs": [
        {
          "output_type": "stream",
          "name": "stdout",
          "text": [
            "Intersection classes 0 /\\ 1 = 18443\n",
            "Intersection classes 1 /\\ 2 = 18901\n"
          ]
        }
      ]
    },
    {
      "cell_type": "code",
      "source": [
        "data = [len(corpuses[i]) for i in range(0x3)]"
      ],
      "metadata": {
        "id": "Shm1guNRQfVm"
      },
      "execution_count": null,
      "outputs": []
    },
    {
      "cell_type": "code",
      "source": [
        "labels = [str(i) for i in range(0x3)]"
      ],
      "metadata": {
        "id": "Qps4RP6OQml0"
      },
      "execution_count": null,
      "outputs": []
    },
    {
      "cell_type": "code",
      "source": [
        "for i in range(0x3):\n",
        "    print(f\"class {i} corpus size: {data[i]}\")"
      ],
      "metadata": {
        "colab": {
          "base_uri": "https://localhost:8080/"
        },
        "id": "nGQ7RAS6PVu6",
        "outputId": "295ede98-2f1b-4b22-f1ae-80c45a4eed50"
      },
      "execution_count": null,
      "outputs": [
        {
          "output_type": "stream",
          "name": "stdout",
          "text": [
            "class 0 corpus size: 36246\n",
            "class 1 corpus size: 26853\n",
            "class 2 corpus size: 39228\n"
          ]
        }
      ]
    },
    {
      "cell_type": "code",
      "source": [
        "plt.figure(figsize=(0x5, 0x5))\n",
        "plt.bar(x=labels, height=data)\n",
        "plt.title(\"Corpus Size x Class\")\n",
        "plt.show()"
      ],
      "metadata": {
        "colab": {
          "base_uri": "https://localhost:8080/",
          "height": 336
        },
        "id": "-b2Qf_OTPk-k",
        "outputId": "b58e06bc-5edc-4abc-a00e-4205acfb13c6"
      },
      "execution_count": null,
      "outputs": [
        {
          "output_type": "display_data",
          "data": {
            "text/plain": [
              "<Figure size 360x360 with 1 Axes>"
            ],
            "image/png": "[encoded data removed]"
          },
          "metadata": {
            "needs_background": "light"
          }
        }
      ]
    },
    {
      "cell_type": "code",
      "source": [
        "plt.figure(figsize=(0x5, 0x5))\n",
        "plt.bar(x=[\"0 ∩ 1\", \"1 ∩ 2\"], height=[len(int_0_1), len(int_1_2)])\n",
        "plt.title(\"Intersection Plot\")\n",
        "plt.show()"
      ],
      "metadata": {
        "colab": {
          "base_uri": "https://localhost:8080/",
          "height": 336
        },
        "id": "XABsn0ymQG4H",
        "outputId": "6cab579e-db1b-4e04-94f8-ea77853032b6"
      },
      "execution_count": null,
      "outputs": [
        {
          "output_type": "display_data",
          "data": {
            "text/plain": [
              "<Figure size 360x360 with 1 Axes>"
            ],
            "image/png": "[encoded data removed]"
          },
          "metadata": {
            "needs_background": "light"
          }
        }
      ]
    }
  ]
}